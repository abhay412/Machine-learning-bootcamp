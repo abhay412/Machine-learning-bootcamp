{
 "cells": [
  {
   "cell_type": "markdown",
   "metadata": {},
   "source": [
    "# Day 13"
   ]
  },
  {
   "cell_type": "markdown",
   "metadata": {},
   "source": [
    "### Selenium"
   ]
  },
  {
   "cell_type": "code",
   "execution_count": 1,
   "metadata": {},
   "outputs": [],
   "source": [
    "from selenium import webdriver"
   ]
  },
  {
   "cell_type": "code",
   "execution_count": 7,
   "metadata": {},
   "outputs": [],
   "source": [
    "driver = webdriver.Chrome(executable_path='C:\\\\Users\\\\Abhijit Gadge\\\\Downloads\\\\Selenium Drivers\\\\chromedriver_win32\\\\chromedriver.exe')\n",
    "driver.get(\"http://www.facebook.com\")"
   ]
  },
  {
   "cell_type": "code",
   "execution_count": 8,
   "metadata": {
    "scrolled": true
   },
   "outputs": [
    {
     "data": {
      "text/plain": [
       "['__class__',\n",
       " '__delattr__',\n",
       " '__dict__',\n",
       " '__dir__',\n",
       " '__doc__',\n",
       " '__enter__',\n",
       " '__eq__',\n",
       " '__exit__',\n",
       " '__format__',\n",
       " '__ge__',\n",
       " '__getattribute__',\n",
       " '__gt__',\n",
       " '__hash__',\n",
       " '__init__',\n",
       " '__init_subclass__',\n",
       " '__le__',\n",
       " '__lt__',\n",
       " '__module__',\n",
       " '__ne__',\n",
       " '__new__',\n",
       " '__reduce__',\n",
       " '__reduce_ex__',\n",
       " '__repr__',\n",
       " '__setattr__',\n",
       " '__sizeof__',\n",
       " '__str__',\n",
       " '__subclasshook__',\n",
       " '__weakref__',\n",
       " '_file_detector',\n",
       " '_is_remote',\n",
       " '_mobile',\n",
       " '_switch_to',\n",
       " '_unwrap_value',\n",
       " '_web_element_cls',\n",
       " '_wrap_value',\n",
       " 'add_cookie',\n",
       " 'application_cache',\n",
       " 'back',\n",
       " 'capabilities',\n",
       " 'close',\n",
       " 'command_executor',\n",
       " 'create_options',\n",
       " 'create_web_element',\n",
       " 'current_url',\n",
       " 'current_window_handle',\n",
       " 'delete_all_cookies',\n",
       " 'delete_cookie',\n",
       " 'desired_capabilities',\n",
       " 'error_handler',\n",
       " 'execute',\n",
       " 'execute_async_script',\n",
       " 'execute_cdp_cmd',\n",
       " 'execute_script',\n",
       " 'file_detector',\n",
       " 'file_detector_context',\n",
       " 'find_element',\n",
       " 'find_element_by_class_name',\n",
       " 'find_element_by_css_selector',\n",
       " 'find_element_by_id',\n",
       " 'find_element_by_link_text',\n",
       " 'find_element_by_name',\n",
       " 'find_element_by_partial_link_text',\n",
       " 'find_element_by_tag_name',\n",
       " 'find_element_by_xpath',\n",
       " 'find_elements',\n",
       " 'find_elements_by_class_name',\n",
       " 'find_elements_by_css_selector',\n",
       " 'find_elements_by_id',\n",
       " 'find_elements_by_link_text',\n",
       " 'find_elements_by_name',\n",
       " 'find_elements_by_partial_link_text',\n",
       " 'find_elements_by_tag_name',\n",
       " 'find_elements_by_xpath',\n",
       " 'forward',\n",
       " 'fullscreen_window',\n",
       " 'get',\n",
       " 'get_cookie',\n",
       " 'get_cookies',\n",
       " 'get_log',\n",
       " 'get_network_conditions',\n",
       " 'get_screenshot_as_base64',\n",
       " 'get_screenshot_as_file',\n",
       " 'get_screenshot_as_png',\n",
       " 'get_window_position',\n",
       " 'get_window_rect',\n",
       " 'get_window_size',\n",
       " 'implicitly_wait',\n",
       " 'launch_app',\n",
       " 'log_types',\n",
       " 'maximize_window',\n",
       " 'minimize_window',\n",
       " 'mobile',\n",
       " 'name',\n",
       " 'orientation',\n",
       " 'page_source',\n",
       " 'quit',\n",
       " 'refresh',\n",
       " 'save_screenshot',\n",
       " 'service',\n",
       " 'session_id',\n",
       " 'set_network_conditions',\n",
       " 'set_page_load_timeout',\n",
       " 'set_script_timeout',\n",
       " 'set_window_position',\n",
       " 'set_window_rect',\n",
       " 'set_window_size',\n",
       " 'start_client',\n",
       " 'start_session',\n",
       " 'stop_client',\n",
       " 'switch_to',\n",
       " 'switch_to_active_element',\n",
       " 'switch_to_alert',\n",
       " 'switch_to_default_content',\n",
       " 'switch_to_frame',\n",
       " 'switch_to_window',\n",
       " 'title',\n",
       " 'w3c',\n",
       " 'window_handles']"
      ]
     },
     "execution_count": 8,
     "metadata": {},
     "output_type": "execute_result"
    }
   ],
   "source": [
    "dir(driver)"
   ]
  },
  {
   "cell_type": "code",
   "execution_count": 9,
   "metadata": {},
   "outputs": [],
   "source": [
    "driver.quit()"
   ]
  },
  {
   "cell_type": "code",
   "execution_count": null,
   "metadata": {},
   "outputs": [],
   "source": []
  }
 ],
 "metadata": {
  "kernelspec": {
   "display_name": "Python 3",
   "language": "python",
   "name": "python3"
  },
  "language_info": {
   "codemirror_mode": {
    "name": "ipython",
    "version": 3
   },
   "file_extension": ".py",
   "mimetype": "text/x-python",
   "name": "python",
   "nbconvert_exporter": "python",
   "pygments_lexer": "ipython3",
   "version": "3.7.4"
  }
 },
 "nbformat": 4,
 "nbformat_minor": 2
}
