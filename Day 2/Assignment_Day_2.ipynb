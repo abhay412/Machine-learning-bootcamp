{
 "cells": [
  {
   "cell_type": "markdown",
   "metadata": {},
   "source": [
    "# Assignment Day 2\n",
    "### - Abhijit Gadge\n"
   ]
  },
  {
   "cell_type": "code",
   "execution_count": null,
   "metadata": {},
   "outputs": [],
   "source": [
    "# Prob - 1 :\n",
    "# Write a program to find if a string is a palindrome or not. The string could be a phrase also. \n",
    "# For example, your program should be able detect the phrase \"Madam, I'm Adam\" as a palindrome."
   ]
  },
  {
   "cell_type": "code",
   "execution_count": 19,
   "metadata": {},
   "outputs": [
    {
     "name": "stdout",
     "output_type": "stream",
     "text": [
      "It Palindrome!\n"
     ]
    }
   ],
   "source": [
    "input_string = input(\"Enter the Test string : \")\n",
    "input_string = input_string.lower()\n",
    "filtered_string = \"\"\n",
    "\n",
    "#filter out the space and special characters from the input string\n",
    "for i in input_string:\n",
    "    if i.isalnum():\n",
    "      filtered_string = filtered_string + i\n",
    "\n",
    "# comparing filtered string with its reversed string\n",
    "if filtered_string == filtered_string[::-1]:\n",
    "    print(\"It Palindrome!\")\n",
    "else:\n",
    "    print(\"Its not Palindrome!\")"
   ]
  },
  {
   "cell_type": "code",
   "execution_count": null,
   "metadata": {},
   "outputs": [],
   "source": [
    "# Prob - 2 :\n",
    "# Write a program to change the case of a character in a string. If the input string is \"HelloWorld\", \n",
    "# and the input index is 1, then output of the program will be \"HElloWorld\"."
   ]
  },
  {
   "cell_type": "code",
   "execution_count": 10,
   "metadata": {},
   "outputs": [
    {
     "name": "stdout",
     "output_type": "stream",
     "text": [
      "Enter the Test string : HelloWorld\n",
      "Enter the Index of character: 1\n"
     ]
    },
    {
     "data": {
      "text/plain": [
       "'HElloWorld'"
      ]
     },
     "execution_count": 10,
     "metadata": {},
     "output_type": "execute_result"
    }
   ],
   "source": [
    "input_string = input(\"Enter the Test string : \")\n",
    "index = int(input(\"Enter the Index of character: \"))\n",
    "\n",
    "#spliting the characters of string into list items\n",
    "s = list(input_string)\n",
    "\n",
    "# altering the case of the required character\n",
    "if s[index].isupper():\n",
    "    s[index] = s[index].lower()\n",
    "else:\n",
    "    s[index] = s[index].upper()\n",
    "\n",
    "# joining back the altered list to new string\n",
    "new_string = \"\".join(s)\n",
    "new_string\n",
    "\n"
   ]
  },
  {
   "cell_type": "code",
   "execution_count": null,
   "metadata": {},
   "outputs": [],
   "source": [
    "# Prob - 3 :\n",
    "# You will be given a list of numbers, you have to find the pair of numbers which sums to 7.\n",
    "# Test Case : If the list is [2,4,3,8,9,-1,-2], the returned pairs will be [ [4,3],[8,-1],[9,-2] ]\n",
    "# There should not be any duplicate pairs!"
   ]
  },
  {
   "cell_type": "code",
   "execution_count": 9,
   "metadata": {},
   "outputs": [
    {
     "name": "stdout",
     "output_type": "stream",
     "text": [
      "Enter the List : 2 4 3 8 9 -1 -2\n",
      "Enter the required Sum : 7\n"
     ]
    },
    {
     "data": {
      "text/plain": [
       "[[4, 3], [8, -1], [9, -2]]"
      ]
     },
     "execution_count": 9,
     "metadata": {},
     "output_type": "execute_result"
    }
   ],
   "source": [
    "# Accept the input list of numbers and required sum\n",
    "num_list = input(\"Enter the List : \").split()\n",
    "sum_number = int(input(\"Enter the required Sum : \"))\n",
    "\n",
    "#filter the accepted list to integers\n",
    "num_list = [int(i) for i in num_list]\n",
    "\n",
    "sum_list = []\n",
    "i, j = 0, 0 \n",
    "\n",
    "while i < len(num_list):\n",
    "    j = i\n",
    "    while j < len(num_list):\n",
    "        if (num_list[i] + num_list[j]) == sum_number:\n",
    "            sum_list.append([num_list[i], num_list[j]])\n",
    "        j += 1\n",
    "    i += 1\n",
    "    \n",
    "sum_list"
   ]
  },
  {
   "cell_type": "code",
   "execution_count": null,
   "metadata": {},
   "outputs": [],
   "source": [
    "# Prob - 4 :\n",
    "# Write a pogram to find armstrong number."
   ]
  },
  {
   "cell_type": "code",
   "execution_count": 15,
   "metadata": {},
   "outputs": [
    {
     "name": "stdout",
     "output_type": "stream",
     "text": [
      "Enter a number to test :153\n",
      "153 is an Armstrong Number!\n"
     ]
    }
   ],
   "source": [
    "input_number = input(\"Enter a number to test :\")\n",
    "\n",
    "digit_sum = 0\n",
    "for i in input_number:\n",
    "    digit_sum += int(i)**len(input_number)\n",
    "\n",
    "if int(input_number) == digit_sum:\n",
    "    print(input_number, \"is an Armstrong Number!\")\n",
    "else:\n",
    "    print(input_number, \"is NOT an Armstrong Number!\")"
   ]
  },
  {
   "cell_type": "code",
   "execution_count": null,
   "metadata": {},
   "outputs": [],
   "source": [
    "# Prob - 5 :\n",
    "# Write a program to find leap year."
   ]
  },
  {
   "cell_type": "code",
   "execution_count": 46,
   "metadata": {},
   "outputs": [
    {
     "name": "stdout",
     "output_type": "stream",
     "text": [
      "2020 is a Leap Year!\n"
     ]
    }
   ],
   "source": [
    "year = 2020\n",
    "\n",
    "if ((year%4 == 0) and (year%100 != 0)) or (year%400 == 0):\n",
    "    print(year, \"is a Leap Year!\")\n",
    "else:\n",
    "    print(year, \"is NOT a Leap Year!\")"
   ]
  },
  {
   "cell_type": "code",
   "execution_count": null,
   "metadata": {},
   "outputs": [],
   "source": [
    "# Prob - 6 :\n",
    "# Write a program to mix two string in alternate manner.\n",
    "# test case:\n",
    "\n",
    "# input : str1=\"apple\", str2=\"orange\"\n",
    "\n",
    "# output : \"aoprpalnege\""
   ]
  },
  {
   "cell_type": "code",
   "execution_count": 14,
   "metadata": {},
   "outputs": [
    {
     "name": "stdout",
     "output_type": "stream",
     "text": [
      "Enter String 1 : orange\n",
      "Enter String 2 : apple\n",
      "Mixed String is :  oarpapnlgee\n"
     ]
    }
   ],
   "source": [
    "string_1 = input(\"Enter String 1 : \")\n",
    "string_2 = input(\"Enter String 2 : \")\n",
    "new_string = \"\"\n",
    "\n",
    "len1, len2 = len(string_1), len(string_2)\n",
    "\n",
    "for i in range(max(len1, len2)):\n",
    "#   add next character of strings if wee still have any...\n",
    "    if i < len1:\n",
    "        new_string += string_1[i]\n",
    "\n",
    "    if i < len2:\n",
    "        new_string += string_2[i]\n",
    "\n",
    "print(\"Mixed String is : \", new_string)\n"
   ]
  },
  {
   "cell_type": "code",
   "execution_count": null,
   "metadata": {},
   "outputs": [],
   "source": [
    "# Prob - 7 :\n",
    "# Print it in the console.\n",
    "# \\\\        0\n",
    "#  \\\\       1\n",
    "#   \\\\      2\n",
    "#    \\\\     3\n",
    "#    //     4\n",
    "#   //      5\n",
    "#  //       6\n",
    "# //        7\n"
   ]
  },
  {
   "cell_type": "code",
   "execution_count": 12,
   "metadata": {},
   "outputs": [
    {
     "name": "stdout",
     "output_type": "stream",
     "text": [
      "Enter the (Even) height of the pattern : 8\n",
      "\\\\\n",
      " \\\\\n",
      "  \\\\\n",
      "   \\\\\n",
      "   //\n",
      "  //\n",
      " //\n",
      "//\n"
     ]
    }
   ],
   "source": [
    "height = int(input(\"Enter the (Even) height of the pattern : \"))\n",
    "for i in range(height):\n",
    "    if i < height//2:\n",
    "        print(\" \"*i + \"\\\\\\\\\")\n",
    "    else :\n",
    "        print(\" \"*(height-i-1) + \"//\")"
   ]
  },
  {
   "cell_type": "code",
   "execution_count": null,
   "metadata": {},
   "outputs": [],
   "source": [
    "# Prob - 8 :\n",
    "# Write a program to find out the positional sum of values of a string. \n",
    "# For example, the positional value of 'a' = 1, 'b' = 2, ... 'z' = 26.\n",
    "# Test Case : If input string is \"Attitude\", the output will be 100.\n"
   ]
  },
  {
   "cell_type": "code",
   "execution_count": 11,
   "metadata": {},
   "outputs": [
    {
     "name": "stdout",
     "output_type": "stream",
     "text": [
      "Enter the String : Attitude\n",
      "The Positional Sum of  Attitude  is : 100\n"
     ]
    }
   ],
   "source": [
    "# First initialize the dictionary for alphabets\n",
    "alphabets_dict = {chr(i+96):i for i in range(1, 27)} \n",
    "\n",
    "input_string = input(\"Enter the String : \")\n",
    "alpha_sum = 0\n",
    "for i in input_string.lower():\n",
    "    alpha_sum += alphabets_dict[i]\n",
    "\n",
    "print(\"The Positional Sum of \", input_string, \" is :\", alpha_sum)"
   ]
  },
  {
   "cell_type": "code",
   "execution_count": null,
   "metadata": {},
   "outputs": [],
   "source": [
    "# Prob - 9 :\n",
    "# A robot moves in a plane starting from the original point (0,0). The robot can move toward UP, DOWN,\n",
    "# LEFT and RIGHT with a given steps. The trace of robot movement is shown as the following:\n",
    "# UP 5\n",
    "# DOWN 3\n",
    "# LEFT 3\n",
    "# RIGHT 2\n",
    "# ¡\n",
    "# The numbers after the direction are steps.\n",
    "# Please write a program to compute the distance from current position\n",
    "# after a sequence of movement and original point.\n",
    "# If the distance is a float, then just print the nearest integer.\n",
    "# Example:\n",
    "# If the following tuples are given as input to the program:\n",
    "# UP 5\n",
    "# DOWN 3\n",
    "# LEFT 3\n",
    "# RIGHT 2\n",
    "# Then, the output of the program should be:\n",
    "# 2"
   ]
  },
  {
   "cell_type": "code",
   "execution_count": 5,
   "metadata": {},
   "outputs": [
    {
     "name": "stdout",
     "output_type": "stream",
     "text": [
      "Enter First Command for the Robot : UP 5\n",
      "Enter Next Command : DOWN 3\n",
      "Enter Next Command : LEFT 3\n",
      "Enter Next Command : RIGHT 2\n",
      "Enter Next Command : STOP\n",
      "The approx. distance traveled by the Robot is :  2\n"
     ]
    }
   ],
   "source": [
    "x_pos = 0\n",
    "y_pos = 0\n",
    "\n",
    "directions_dict = {\"UP\":1, \"DOWN\":-1, \"RIGHT\":1, \"LEFT\":-1}\n",
    "\n",
    "#Command is the combination of the direction and the steps for the robot\n",
    "command = input(\"Enter First Command for the Robot : \").split()\n",
    "\n",
    "direction = command[0]\n",
    "steps = command[1]\n",
    "\n",
    "while command[0] != \"STOP\":\n",
    "    direction = command[0]\n",
    "    steps = int(command[1])\n",
    "\n",
    "    if direction == \"UP\" or direction == \"DOWN\":\n",
    "        y_pos += directions_dict[direction] * steps\n",
    "\n",
    "    elif direction == \"RIGHT\" or direction == \"LEFT\":\n",
    "        x_pos += directions_dict[direction] * steps\n",
    "    else: \n",
    "        print(\"[ERROR] : Invalid Direction!\")\n",
    "    \n",
    "    command = input(\"Enter Next Command : \").split()\n",
    "\n",
    "# Find the distance of the robot from origin to its current x and y co-ordinates\n",
    "distance = ((x_pos**2) + (y_pos**2))**0.5\n",
    "\n",
    "print(\"The approx. distance traveled by the Robot is : \", int(distance))"
   ]
  }
 ],
 "metadata": {
  "kernelspec": {
   "display_name": "Python 3",
   "language": "python",
   "name": "python3"
  },
  "language_info": {
   "codemirror_mode": {
    "name": "ipython",
    "version": 3
   },
   "file_extension": ".py",
   "mimetype": "text/x-python",
   "name": "python",
   "nbconvert_exporter": "python",
   "pygments_lexer": "ipython3",
   "version": "3.7.4"
  }
 },
 "nbformat": 4,
 "nbformat_minor": 2
}
