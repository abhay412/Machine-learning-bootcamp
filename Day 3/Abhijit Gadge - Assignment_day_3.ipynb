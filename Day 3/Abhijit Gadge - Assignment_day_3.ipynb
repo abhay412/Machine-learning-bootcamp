{
 "cells": [
  {
   "cell_type": "markdown",
   "metadata": {},
   "source": [
    "# Assignment Day 3\n",
    "#### - Abhijit Gadge"
   ]
  },
  {
   "cell_type": "markdown",
   "metadata": {},
   "source": [
    "### Prob - 1 :\n",
    "#### Implement a program which will remove all the vowels from a given string."
   ]
  },
  {
   "cell_type": "code",
   "execution_count": 3,
   "metadata": {},
   "outputs": [
    {
     "name": "stdout",
     "output_type": "stream",
     "text": [
      "Enter a sting : HELLO\n",
      "HLL\n"
     ]
    }
   ],
   "source": [
    "def remove_vowels(string):\n",
    "    vowels = ('a', 'e', 'i', 'o', 'u')\n",
    "    filter_string = ''\n",
    "    for i in string:\n",
    "        if i.lower() not in vowels:\n",
    "            filter_string += i\n",
    "    \n",
    "    return filter_string\n",
    "user_string = input(\"Enter a sting : \")\n",
    "print(remove_vowels(user_string))\n"
   ]
  },
  {
   "cell_type": "markdown",
   "metadata": {},
   "source": [
    "### Prob - 2 :\n",
    "#### Write a program which will convert the temparature for the user. Keep the 3 scale of temparature to convert, C/F/K. Implemnet a separate function to convert this temparature and take two parameter to the function like temparature value and scale to convert."
   ]
  },
  {
   "cell_type": "code",
   "execution_count": 21,
   "metadata": {},
   "outputs": [
    {
     "name": "stdout",
     "output_type": "stream",
     "text": [
      "Enter original value with scale (For Eg. : '10 C' for 10 degree Celsius)\n",
      "Value: 32 F\n",
      "Enter the other scale to convert to: C\n",
      "Output: \n",
      "Celsius :  0.0\n"
     ]
    }
   ],
   "source": [
    "def temperature_convert(temp, scale=\"F\"):\n",
    "    temp = temp.split()\n",
    "    value = float(temp[0])\n",
    "    original_scale = temp[1].lower()\n",
    "\n",
    "    if scale.lower() == \"f\":\n",
    "        if original_scale == \"c\":\n",
    "            farenheit = value * 1.8 + 32\n",
    "        elif original_scale == \"k\":\n",
    "            farenheit = (value - 273.15) * 9/5 + 32\n",
    "        elif original_scale == \"f\":\n",
    "            farenheit = value\n",
    "        else:\n",
    "            print(\"Invalid Original Scale!\")  \n",
    "            return  \n",
    "        \n",
    "        print(\"Farenheit : \", round(farenheit, 2))\n",
    "        return\n",
    "    \n",
    "    elif scale.lower() == \"c\":\n",
    "        if original_scale == \"f\":\n",
    "            celsius = (value - 32) / 1.8\n",
    "        elif original_scale == \"k\":\n",
    "            celsius = (value - 273.15)\n",
    "        elif original_scale == \"c\":\n",
    "            celsius = value\n",
    "        else:\n",
    "            print(\"Invalid Original Scale!\")  \n",
    "            return\n",
    "\n",
    "        print(\"Celsius : \", round(celsius, 2))\n",
    "        return\n",
    "\n",
    "    elif scale.lower() == \"k\":\n",
    "        if original_scale == \"f\":\n",
    "            kelvin = (value - 32) / 1.8 + 273.15\n",
    "        elif original_scale == \"c\":\n",
    "            kelvin = (value + 273.15)\n",
    "        elif original_scale == \"k\":\n",
    "            kelvin = value\n",
    "        else:\n",
    "            print(\"Invalid Original Scale!\")  \n",
    "            return\n",
    "        \n",
    "        print(\"Kelvin : \", round(kelvin, 2))\n",
    "        return\n",
    "    \n",
    "    else:\n",
    "        print(\"Unknown Scale to convert to!\")\n",
    "        return\n",
    "\n",
    "print(\"Enter original value with scale (For Eg. : '10 C' for 10 degree Celsius)\")\n",
    "value = input(\"Value: \")\n",
    "reqiured_scale = input(\"Enter the other scale to convert to: \")\n",
    "print(\"Output: \")\n",
    "temperature_convert(value, reqiured_scale)\n",
    "\n"
   ]
  },
  {
   "cell_type": "markdown",
   "metadata": {},
   "source": [
    "### Prob - 3 :\n",
    "#### Implement a program of random password generator of a specified length in Python."
   ]
  },
  {
   "cell_type": "code",
   "execution_count": 1,
   "metadata": {
    "scrolled": true
   },
   "outputs": [
    {
     "name": "stdout",
     "output_type": "stream",
     "text": [
      "Enter option of allowed characters from list below: \n",
      "1. a-z\n",
      "2. A-Z\n",
      "3. 0-9\n",
      "4. Special Characters\n",
      "Enter the allowed characters: 1,2,3,4\n",
      "Enter the expected length of Password: 20\n",
      "Generated Password :  A#70_*I*%_ek!%Z!75+6\n"
     ]
    }
   ],
   "source": [
    "from random import choice, randint\n",
    "\n",
    "def generate_password(length=7, allowed=None):\n",
    "    password_string = \"\"\n",
    "    if allowed == None:\n",
    "        ascii_range = [(48, 56), (63, 90), (95, 95), (97, 122)]\n",
    "    else:\n",
    "        ascii_range = allowed\n",
    "\n",
    "    while len(password_string) != length:\n",
    "        next_char =  chr(randint(*choice(ascii_range)))\n",
    "        \n",
    "        if password_string.count(next_char) >= length//10 or password_string.endswith(next_char):\n",
    "            continue\n",
    "        else:\n",
    "            password_string += next_char\n",
    "\n",
    "    return password_string\n",
    "\n",
    "print(\"Enter option of allowed characters from list below: \", \n",
    "      \"1. a-z\",\n",
    "      \"2. A-Z\",\n",
    "      \"3. 0-9\",\n",
    "      \"4. Special Characters\", sep=\"\\n\")\n",
    "options = input(\"Enter the allowed characters: \").split(\",\")\n",
    "length = int(input(\"Enter the expected length of Password: \"))\n",
    "\n",
    "ascii_dict = {1:[(97, 112)], \n",
    "              2:[(65, 90)], \n",
    "              3:[(48, 57)], \n",
    "              4:[(95, 95), (33, 33), (35, 38), (42, 43), (45, 47)]\n",
    "             }\n",
    "\n",
    "allowed = []\n",
    "for i in options:\n",
    "    allowed.extend(ascii_dict[int(i)])\n",
    "print(\"Generated Password : \",generate_password(length=length, allowed=allowed))"
   ]
  },
  {
   "cell_type": "markdown",
   "metadata": {},
   "source": [
    "### Prob - 4 :\n",
    "#### Create a Rock-Paper Game in Python. Start the game,  take input from the user and randomly choose Rock/Paper from a list and print the result of consecutive 3 rounds."
   ]
  },
  {
   "cell_type": "code",
   "execution_count": 19,
   "metadata": {},
   "outputs": [
    {
     "name": "stdout",
     "output_type": "stream",
     "text": [
      "Enter Your name: Abhijit\n",
      "\n",
      "ROUND : 1\n",
      "Enter Your move: Rock\n",
      "CPU Wins this Round!\n",
      "\n",
      "ROUND : 2\n",
      "Enter Your move: Paper\n",
      "Oh it a tie\n",
      "\n",
      "ROUND : 3\n",
      "Enter Your move: Rock\n",
      "Oh it a tie\n",
      "\n",
      "Game Stats\n",
      "==================================\n",
      "CPU's Wins : 1\n",
      "Abhijit's Wins : 0\n",
      "---------------------------------\n",
      "Round End Log:  ['CPU', 'Tie', 'Tie']\n"
     ]
    }
   ],
   "source": [
    "from random import choice\n",
    "def rock_paper(player_name):\n",
    "    game_results = {\"CPU\" : 0, player_name : 0, \"win_history\":[]}\n",
    "    i = 1\n",
    "    while i < 4:\n",
    "        print(\"\\nROUND :\", i)\n",
    "        cpu_move = choice((\"rock\", \"paper\"))\n",
    "\n",
    "        player_move = input(\"Enter Your move: \").lower()\n",
    "        \n",
    "        if player_move == cpu_move:\n",
    "            print(\"Oh it a tie\")\n",
    "            game_results[\"win_history\"].append(\"Tie\")\n",
    "        elif player_move == \"paper\":\n",
    "            print(player_name, \"Wins this round!\")\n",
    "            game_results[player_name] += 1\n",
    "            game_results[\"win_history\"].append(player_name)\n",
    "        elif player_move == \"rock\":\n",
    "            print(\"CPU Wins this Round!\")\n",
    "            game_results[\"CPU\"] += 1\n",
    "            game_results[\"win_history\"].append(\"CPU\")\n",
    "        i+=1\n",
    "\n",
    "    return game_results\n",
    "        \n",
    "\n",
    "player_name = input(\"Enter Your name: \")\n",
    "game_stats = rock_paper(player_name)\n",
    "print(\"\\nGame Stats\")\n",
    "print(\"==================================\")\n",
    "print(\"CPU's Wins :\", game_stats[\"CPU\"])\n",
    "print(\"%s's Wins :\"%player_name, game_stats[player_name])\n",
    "print(\"---------------------------------\")\n",
    "print(\"Round End Log: \", game_stats[\"win_history\"])"
   ]
  },
  {
   "cell_type": "markdown",
   "metadata": {},
   "source": [
    "### Prob - 5 :\n",
    "#### You are given a string S. Suppose a character 'c' occurs consecutively X  times in the string. Replace these consecutive occurrences of  the character 'c' with (X,c) in the string.\n",
    " \n",
    " \n",
    "#### Sample Input\n",
    "#### 1222311\n",
    "#### Sample Output\n",
    "#### (1, 1) (3, 2) (1, 3) (2, 1)"
   ]
  },
  {
   "cell_type": "code",
   "execution_count": 33,
   "metadata": {},
   "outputs": [
    {
     "name": "stdout",
     "output_type": "stream",
     "text": [
      "Enter a number stream: 1222311\n",
      "[(1, 1), (3, 2), (1, 3), (2, 1)]\n"
     ]
    }
   ],
   "source": [
    "def run_lenth_encoder(input_stream):\n",
    "    current = None\n",
    "    count = 0\n",
    "    count_list = []\n",
    "    length = len(input_stream)\n",
    "    \n",
    "    for i in range(len(input_stream)+1):\n",
    "        if current == None:\n",
    "            current = input_stream[i]\n",
    "            count = 1\n",
    "        elif i == length:\n",
    "            count_list.append((count, int(current)))\n",
    "            break\n",
    "        elif current == input_stream[i]:\n",
    "            count += 1\n",
    "        else:\n",
    "            count_list.append((count, int(current)))\n",
    "            current = input_stream[i]\n",
    "            count = 1\n",
    "        \n",
    "    print(count_list)\n",
    "\n",
    "stream = input(\"Enter a number stream: \")\n",
    "run_lenth_encoder(stream)"
   ]
  },
  {
   "cell_type": "markdown",
   "metadata": {},
   "source": [
    "### Prob - 6 :\n",
    "\n",
    "#### Print the three most common characters along with their occurrence count. Sort in descending order of occurrence count. If the occurrence count is the same, sort the characters in alphabetical order. For example, according to the conditions described above, Input Format\n",
    "#### Sample Input 0\n",
    "\n",
    "#### aabbbccde\n",
    "#### Sample Output 0\n",
    "\n",
    "#### b 3\n",
    "#### a 2\n",
    "#### c 2"
   ]
  },
  {
   "cell_type": "code",
   "execution_count": 102,
   "metadata": {},
   "outputs": [
    {
     "name": "stdout",
     "output_type": "stream",
     "text": [
      "Enter a String : aabbbccde\n",
      "[('b', 3), ('a', 2), ('c', 2)]\n"
     ]
    }
   ],
   "source": [
    "def occurrence_counter(input_string):\n",
    "    occurrence_dict = {}\n",
    "    \n",
    "    #Count the occurance of the characters from the input string\n",
    "    for i in input_string:\n",
    "        if i in occurrence_dict:\n",
    "            occurrence_dict[i] += 1\n",
    "        else:\n",
    "            occurrence_dict[i] = 1\n",
    "            \n",
    "    #Sort the key-value pairs from the dictionary w.r.t. keys alphabeticallly \n",
    "    sorted_list = sorted(occurrence_dict.items(), reverse=True, key = lambda kv:(kv[0], kv[1]))\n",
    "    #now sort the above sorted list w.r.t. values (sorted() works on Timsort algo.)\n",
    "    sorted_list = sorted(sorted_list, reverse=False, key= lambda k:(k[1]))\n",
    "    length = len(sorted_list)\n",
    "    \n",
    "    print(sorted_list[-1:length-4:-1])\n",
    "    \n",
    "\n",
    "string = input(\"Enter a String : \")\n",
    "occurrence_counter(string)"
   ]
  },
  {
   "cell_type": "code",
   "execution_count": 3,
   "metadata": {},
   "outputs": [
    {
     "data": {
      "text/plain": [
       "{'A': 1,\n",
       " 's': 1,\n",
       " 'd': 1,\n",
       " 'E': 1,\n",
       " 'r': 3,\n",
       " 'S': 1,\n",
       " 't': 1,\n",
       " 'f': 1,\n",
       " 'c': 1,\n",
       " '$': 1,\n",
       " '5': 2,\n",
       " '3': 3,\n",
       " '%': 1,\n",
       " '(': 1,\n",
       " ')': 1}"
      ]
     },
     "execution_count": 3,
     "metadata": {},
     "output_type": "execute_result"
    }
   ],
   "source": []
  },
  {
   "cell_type": "code",
   "execution_count": null,
   "metadata": {},
   "outputs": [],
   "source": []
  }
 ],
 "metadata": {
  "kernelspec": {
   "display_name": "Python 3",
   "language": "python",
   "name": "python3"
  },
  "language_info": {
   "codemirror_mode": {
    "name": "ipython",
    "version": 3
   },
   "file_extension": ".py",
   "mimetype": "text/x-python",
   "name": "python",
   "nbconvert_exporter": "python",
   "pygments_lexer": "ipython3",
   "version": "3.7.4"
  }
 },
 "nbformat": 4,
 "nbformat_minor": 2
}
