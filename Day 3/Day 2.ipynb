{
 "cells": [
  {
   "cell_type": "markdown",
   "metadata": {},
   "source": [
    "# Functions"
   ]
  },
  {
   "cell_type": "code",
   "execution_count": 8,
   "metadata": {},
   "outputs": [],
   "source": [
    "def method1(x=\"One\"):\n",
    "    print(\"This is method one, passed value\", x)"
   ]
  },
  {
   "cell_type": "code",
   "execution_count": 10,
   "metadata": {},
   "outputs": [
    {
     "name": "stdout",
     "output_type": "stream",
     "text": [
      "This is method one, passed value Two\n"
     ]
    }
   ],
   "source": [
    "method1(\"Two\")"
   ]
  },
  {
   "cell_type": "code",
   "execution_count": 12,
   "metadata": {},
   "outputs": [
    {
     "name": "stdout",
     "output_type": "stream",
     "text": [
      "This is method one, passed value One\n"
     ]
    }
   ],
   "source": [
    "method1()"
   ]
  },
  {
   "cell_type": "code",
   "execution_count": 22,
   "metadata": {},
   "outputs": [],
   "source": [
    "def method2(*args):\n",
    "    print(type(args))\n",
    "    for i in args:\n",
    "        print(i)"
   ]
  },
  {
   "cell_type": "code",
   "execution_count": 23,
   "metadata": {},
   "outputs": [
    {
     "name": "stdout",
     "output_type": "stream",
     "text": [
      "<class 'tuple'>\n",
      "1\n",
      "Two\n",
      "3.0\n",
      "4\n"
     ]
    }
   ],
   "source": [
    "method2(1,\"Two\",3.0,4)"
   ]
  },
  {
   "cell_type": "code",
   "execution_count": 29,
   "metadata": {},
   "outputs": [],
   "source": [
    "def method3(*args, **kwargs):\n",
    "    for i in args:\n",
    "        print(i)\n",
    "    \n",
    "    print(type(kwargs))\n",
    "    print(kwargs)"
   ]
  },
  {
   "cell_type": "code",
   "execution_count": 31,
   "metadata": {},
   "outputs": [
    {
     "name": "stdout",
     "output_type": "stream",
     "text": [
      "1\n",
      "2\n",
      "Three\n",
      "<class 'dict'>\n",
      "{'x1': 'Hello', 'x2': 'World'}\n"
     ]
    }
   ],
   "source": [
    "method3(1,2,'Three', x1=\"Hello\", x2 = \"World\")"
   ]
  },
  {
   "cell_type": "code",
   "execution_count": 55,
   "metadata": {},
   "outputs": [
    {
     "name": "stdout",
     "output_type": "stream",
     "text": [
      "Multiplication :  120\n",
      "Sum:  15\n",
      "Sum:  15\n"
     ]
    }
   ],
   "source": [
    "def operator(*args, op=\"+\"):\n",
    "    if op == \"+\":\n",
    "        print(\"Sum: \", sum(args))\n",
    "    elif op == \"*\":\n",
    "        mul = 1\n",
    "        for i in args:\n",
    "            mul = mul * i\n",
    "        print(\"Multiplication : \", mul)\n",
    "    else:\n",
    "        print(\"Invalid Operator\")\n",
    "\n",
    "operator(1,2,3,4,5, op=\"*\")\n",
    "operator(1,2,3,4,5, op=\"+\")\n",
    "operator(1,2,3,4,5)"
   ]
  },
  {
   "cell_type": "code",
   "execution_count": null,
   "metadata": {},
   "outputs": [],
   "source": []
  },
  {
   "cell_type": "code",
   "execution_count": null,
   "metadata": {},
   "outputs": [],
   "source": []
  }
 ],
 "metadata": {
  "kernelspec": {
   "display_name": "Python 3",
   "language": "python",
   "name": "python3"
  },
  "language_info": {
   "codemirror_mode": {
    "name": "ipython",
    "version": 3
   },
   "file_extension": ".py",
   "mimetype": "text/x-python",
   "name": "python",
   "nbconvert_exporter": "python",
   "pygments_lexer": "ipython3",
   "version": "3.7.4"
  }
 },
 "nbformat": 4,
 "nbformat_minor": 2
}
